{
 "cells": [
  {
   "cell_type": "code",
   "execution_count": 5,
   "id": "65ae3a5a-5c8d-4287-b447-523d437bdd94",
   "metadata": {},
   "outputs": [
    {
     "ename": "ModuleNotFoundError",
     "evalue": "No module named 'pandas'",
     "output_type": "error",
     "traceback": [
      "\u001b[0;31m---------------------------------------------------------------------------\u001b[0m",
      "\u001b[0;31mModuleNotFoundError\u001b[0m                       Traceback (most recent call last)",
      "Cell \u001b[0;32mIn[5], line 1\u001b[0m\n\u001b[0;32m----> 1\u001b[0m \u001b[38;5;28;01mimport\u001b[39;00m \u001b[38;5;21;01mpandas\u001b[39;00m \u001b[38;5;28;01mas\u001b[39;00m \u001b[38;5;21;01mpd\u001b[39;00m\n\u001b[1;32m      2\u001b[0m \u001b[38;5;28;01mimport\u001b[39;00m \u001b[38;5;21;01mnumpy\u001b[39;00m \u001b[38;5;28;01mas\u001b[39;00m \u001b[38;5;21;01mnp\u001b[39;00m\n\u001b[1;32m      3\u001b[0m \u001b[38;5;28;01mimport\u001b[39;00m \u001b[38;5;21;01mmatplotlib\u001b[39;00m\u001b[38;5;21;01m.\u001b[39;00m\u001b[38;5;21;01mpyplot\u001b[39;00m \u001b[38;5;28;01mas\u001b[39;00m \u001b[38;5;21;01mplt\u001b[39;00m\n",
      "\u001b[0;31mModuleNotFoundError\u001b[0m: No module named 'pandas'"
     ]
    }
   ],
   "source": [
    "import pandas as pd\n",
    "import numpy as np\n",
    "import matplotlib.pyplot as plt\n",
    "import seaborn as sns\n",
    "from sklearn.preprocessing import MinMaxScaler\n",
    "from sklearn.model_selection import train_test_split\n",
    "from imblearn.over_sampling import SMOTE\n",
    "from ucimlrepo import fetch_ucirepo"
   ]
  },
  {
   "cell_type": "code",
   "execution_count": null,
   "id": "cf4473f9-1f9f-4dc8-a2c9-097b3b82cde9",
   "metadata": {},
   "outputs": [],
   "source": [
    "#1. Wczytanie i filtrowanie danych\n",
    "polish_companies_bankruptcy = fetch_ucirepo(id=365)\n",
    "\n",
    "X = polish_companies_bankruptcy.data.features\n",
    "y = polish_companies_bankruptcy.data.targets\n",
    "y = y['class']\n",
    "data = pd.concat([X, y.rename('Bankruptcy')], axis=1)\n",
    "\n",
    "# Filtrowanie dla konkretnego roku\n",
    "selected_year = 3\n",
    "data = data[data['year'] == selected_year]\n",
    "data = data.drop(columns=['year'])"
   ]
  },
  {
   "cell_type": "code",
   "execution_count": null,
   "id": "1eb875cb",
   "metadata": {},
   "outputs": [],
   "source": [
    "print(data)"
   ]
  },
  {
   "cell_type": "code",
   "execution_count": null,
   "id": "c6f67a2e",
   "metadata": {},
   "outputs": [],
   "source": [
    " # 2. Podstawowa eksploracja danych\n",
    "\n",
    "print(\"\\nPodstawowe informacje o danych:\")\n",
    "data.info()\n",
    "\n",
    "print(\"\\nPodstawowe statystyki opisowe:\")\n",
    "print(data.describe())\n",
    "\n",
    "print(\"\\nRozkład klas w kolumnie 'Bankruptcy':\")\n",
    "print(data['Bankruptcy'].value_counts())"
   ]
  },
  {
   "cell_type": "code",
   "execution_count": null,
   "id": "648f8a3d",
   "metadata": {},
   "outputs": [],
   "source": [
    "# 3. Obsługa braków danych\n",
    "\n",
    "# Sprawdzenie braków w 'Bankruptcy'\n",
    "print(f\"Liczba braków w 'Bankruptcy' przed usunięciem: {data['Bankruptcy'].isnull().sum()}\")\n",
    "data = data.dropna(subset=['Bankruptcy'])\n",
    "print(f\"Liczba braków w 'Bankruptcy' po usunięciu: {data['Bankruptcy'].isnull().sum()}\")\n",
    "\n",
    "data.reset_index(drop=True, inplace=True)\n",
    "\n",
    "# Sprawdzenie braków przed usuwaniem kolumn\n",
    "missing_values = data.isnull().sum()\n",
    "missing_percentage = (missing_values / len(data)) * 100\n",
    "print(\"\\nProcent braków w danych (przed usuwaniem kolumn):\")\n",
    "print(missing_percentage[missing_percentage > 0])\n",
    "\n",
    "# Usuwanie kolumn z dużą liczbą braków (>40%)\n",
    "threshold = 40\n",
    "cols_to_drop = missing_percentage[missing_percentage > threshold].index\n",
    "print(f\"\\nKolumny do usunięcia z powodu dużej liczby braków: {cols_to_drop}\")\n",
    "data = data.drop(columns=cols_to_drop)\n",
    "\n",
    "# Sprawdzenie braków po usunięciu kolumn\n",
    "missing_values = data.isnull().sum()\n",
    "print(\"\\nLiczba braków po usunięciu kolumn:\")\n",
    "print(missing_values[missing_values > 0])\n",
    "\n",
    "# Wypełnianie braków medianą w pozostałych kolumnach\n",
    "for col in data.columns:\n",
    "    if data[col].isnull().sum() > 0:\n",
    "        data[col].fillna(data[col].median(), inplace=True)\n",
    "\n",
    "# Weryfikacja braków po przetwarzaniu\n",
    "print(\"\\nLiczba braków danych po przetwarzaniu:\", data.isnull().sum().sum())  # Powinno być 0\n",
    "data.reset_index(drop=True, inplace=True)"
   ]
  },
  {
   "cell_type": "code",
   "execution_count": null,
   "id": "664fa975",
   "metadata": {},
   "outputs": [],
   "source": [
    "#4. Analiza rozkładu klasy\n",
    "\n",
    "class_distribution = data['Bankruptcy'].value_counts()\n",
    "print(\"\\nRozkład klas w zbiorze danych:\")\n",
    "print(class_distribution)\n",
    "\n",
    "# Próba jest niezbilansowana\n",
    "plt.figure(figsize=(6, 4))\n",
    "sns.barplot(x=class_distribution.index, y=class_distribution.values, palette=\"viridis\")\n",
    "plt.title(f'Rozkład klas: Bankructwo (1) i Brak bankructwa (0) (rok {selected_year})')\n",
    "plt.xlabel('Klasa')\n",
    "plt.ylabel('Liczba próbek')\n",
    "plt.show()"
   ]
  },
  {
   "cell_type": "code",
   "execution_count": null,
   "id": "6c512e1c",
   "metadata": {},
   "outputs": [],
   "source": [
    "#5. Skalowanie cech\n",
    "\n",
    "print(\"Braki danych przed skalowaniem:\")\n",
    "print(features.isnull().sum().sum())  # Powinno być 0\n",
    "scaler = MinMaxScaler()\n",
    "features = data.drop(columns=['Bankruptcy'])\n",
    "scaled_features = pd.DataFrame(scaler.fit_transform(features), columns=features.columns)\n",
    "\n",
    "# Dodanie klasy 'Bankruptcy' z powrotem\n",
    "data = pd.concat([scaled_features, data['Bankruptcy']], axis=1)\n",
    "print(data)"
   ]
  },
  {
   "cell_type": "code",
   "execution_count": null,
   "id": "670afe5f",
   "metadata": {},
   "outputs": [],
   "source": [
    "# 5. Korelacja między cechami a klasą\n",
    "\n",
    "correlations = data.corr()['Bankruptcy'].sort_values(ascending=False)\n",
    "print(\"\\nNajsilniejsze korelacje cech z klasą 'Bankruptcy':\")\n",
    "print(correlations.head(10))\n",
    "\n",
    "# Wizualizacja macierzy korelacji\n",
    "plt.figure(figsize=(12, 8))\n",
    "sns.heatmap(data.corr(), annot=False, cmap='coolwarm', cbar=True)\n",
    "plt.title(\"Macierz korelacji\")\n",
    "plt.show()"
   ]
  },
  {
   "cell_type": "code",
   "execution_count": null,
   "id": "bd22b046",
   "metadata": {},
   "outputs": [],
   "source": [
    "# 6. Mutual Information jako alternatywa dla korelacji liniowej\n",
    "\n",
    "X = data.drop(columns=['Bankruptcy'])\n",
    "y = data['Bankruptcy']\n",
    "mutual_info = mutual_info_classif(X, y, random_state=42)\n",
    "mutual_info_series = pd.Series(mutual_info, index=X.columns).sort_values(ascending=False)\n",
    "print(\"\\nCechy o najwyższej informacji wzajemnej względem klasy 'Bankruptcy':\")\n",
    "print(mutual_info_series.head(10))"
   ]
  },
  {
   "cell_type": "code",
   "execution_count": null,
   "id": "a10cd1c8",
   "metadata": {},
   "outputs": [],
   "source": [
    "#7. Podział na zbiór treningowy i testowy\n",
    "\n",
    "X = data.drop(columns=['Bankruptcy'])  # Cechy\n",
    "y = data['Bankruptcy']  # Klasa docelowa\n",
    "\n",
    "X_train, X_test, y_train, y_test = train_test_split(X, y, test_size=0.2, random_state=42, stratify=y)"
   ]
  },
  {
   "cell_type": "code",
   "execution_count": null,
   "id": "71bbf89a",
   "metadata": {},
   "outputs": [],
   "source": [
    "#8. Wyrównanie klas za pomocą SMOTE na zbiorze treningowym\n",
    "\n",
    "smote = SMOTE(random_state=42)\n",
    "X_train_resampled, y_train_resampled = smote.fit_resample(X_train, y_train)\n",
    "print(\"\\nRozkład klas po zastosowaniu SMOTE:\")\n",
    "print(y_train_resampled.value_counts())\n",
    "\n",
    "# Weryfikacja liczby próbek\n",
    "print(f\"Liczba próbek w zbiorze treningowym po SMOTE: {X_train_resampled.shape[0]}\")"
   ]
  }
 ],
 "metadata": {
  "kernelspec": {
   "display_name": "Python 3",
   "language": "python",
   "name": "python3"
  },
  "language_info": {
   "codemirror_mode": {
    "name": "ipython",
    "version": 3
   },
   "file_extension": ".py",
   "mimetype": "text/x-python",
   "name": "python",
   "nbconvert_exporter": "python",
   "pygments_lexer": "ipython3",
   "version": "3.12.0"
  }
 },
 "nbformat": 4,
 "nbformat_minor": 5
}
